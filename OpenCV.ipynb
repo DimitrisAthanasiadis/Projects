{
 "cells": [
  {
   "cell_type": "code",
   "execution_count": 1,
   "metadata": {},
   "outputs": [],
   "source": [
    "import numpy as np\n",
    "import math\n",
    "import matplotlib.pyplot as plt\n",
    "import cv2\n",
    "import os\n",
    "%matplotlib inline"
   ]
  },
  {
   "cell_type": "markdown",
   "metadata": {},
   "source": [
    "## camera open hone ke baad bnd krne ke liye Esc button press kro"
   ]
  },
  {
   "cell_type": "markdown",
   "metadata": {},
   "source": [
    "# Rectangle and Typing"
   ]
  },
  {
   "cell_type": "code",
   "execution_count": 15,
   "metadata": {},
   "outputs": [
    {
     "name": "stdout",
     "output_type": "stream",
     "text": [
      "True\n"
     ]
    }
   ],
   "source": [
    "video=cv2.VideoCapture(0)\n",
    "print(video.isOpened())\n",
    "cv2.namedWindow('Video Window',cv2.WINDOW_AUTOSIZE)\n",
    "msg=\"\"\n",
    "while video.isOpened():\n",
    "    _,frame=video.read()\n",
    "    frame=cv2.flip(frame,1)\n",
    "    cv2.rectangle(frame,(80,100),(550,410),(250,0,0),3)\n",
    "    cv2.putText(frame,msg,(30,90),cv2.FONT_HERSHEY_SIMPLEX,.8,(0,0,250),2)\n",
    "    cv2.imshow('Video Window',frame)\n",
    "    k=cv2.waitKey(50)&0xFF\n",
    "    if k not in [255,27]:\n",
    "        msg+=chr(k)\n",
    "    elif k==27:\n",
    "        break\n",
    "video.release()\n",
    "cv2.destroyAllWindows()"
   ]
  },
  {
   "cell_type": "markdown",
   "metadata": {},
   "source": [
    "# Mask To Uncover Video"
   ]
  },
  {
   "cell_type": "code",
   "execution_count": 3,
   "metadata": {},
   "outputs": [],
   "source": [
    "def draw_circle(event,x,y,flags,param):\n",
    "    global x_in,y_in\n",
    "    if  event==cv2.EVENT_LBUTTONDOWN:\n",
    "        x_in=x\n",
    "        y_in=y\n",
    "    elif event==cv2.EVENT_LBUTTONUP:\n",
    "        cv2.circle(mask,(int((x+x_in)/2),int((y+y_in)/2)),\n",
    "                   int(math.sqrt((y-y_in)**2+(x-x_in)**2)/2),(255,255,255),-1)\n",
    "cv2.namedWindow('Video Window')\n",
    "cv2.setMouseCallback('Video Window',draw_circle)\n",
    "video=cv2.VideoCapture(0)\n",
    "_,frame=video.read()\n",
    "mask=np.zeros_like(frame)\n",
    "while True:\n",
    "    _,frame=video.read()\n",
    "    frame=np.bitwise_and(frame,mask)\n",
    "    cv2.imshow('Video Window',frame)\n",
    "    if cv2.waitKey(20)&0xFF==27:\n",
    "        break\n",
    "video.release()\n",
    "cv2.destroyAllWindows()"
   ]
  },
  {
   "cell_type": "code",
   "execution_count": null,
   "metadata": {},
   "outputs": [],
   "source": []
  }
 ],
 "metadata": {
  "kernelspec": {
   "display_name": "Python 3",
   "language": "python",
   "name": "python3"
  },
  "language_info": {
   "codemirror_mode": {
    "name": "ipython",
    "version": 3
   },
   "file_extension": ".py",
   "mimetype": "text/x-python",
   "name": "python",
   "nbconvert_exporter": "python",
   "pygments_lexer": "ipython3",
   "version": "3.7.3"
  }
 },
 "nbformat": 4,
 "nbformat_minor": 2
}
